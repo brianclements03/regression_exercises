{
 "cells": [
  {
   "cell_type": "code",
   "execution_count": 1,
   "id": "93af63b9",
   "metadata": {},
   "outputs": [],
   "source": [
    "import warnings\n",
    "warnings.filterwarnings(\"ignore\")\n",
    "\n",
    "import pandas as pd\n",
    "import matplotlib.pyplot as plt\n",
    "import seaborn as sns\n",
    "import numpy as np"
   ]
  },
  {
   "cell_type": "code",
   "execution_count": 20,
   "id": "e943b456",
   "metadata": {},
   "outputs": [],
   "source": [
    "# importing my personal wrangle module\n",
    "\n",
    "import wrangle"
   ]
  },
  {
   "cell_type": "code",
   "execution_count": 21,
   "id": "fedeee27",
   "metadata": {},
   "outputs": [],
   "source": [
    "# Acquiring the data using the above module\n",
    "\n",
    "zillow = wrangle.get_zillow_data()"
   ]
  },
  {
   "cell_type": "code",
   "execution_count": 4,
   "id": "3f0a5afc",
   "metadata": {},
   "outputs": [
    {
     "data": {
      "text/html": [
       "<div>\n",
       "<style scoped>\n",
       "    .dataframe tbody tr th:only-of-type {\n",
       "        vertical-align: middle;\n",
       "    }\n",
       "\n",
       "    .dataframe tbody tr th {\n",
       "        vertical-align: top;\n",
       "    }\n",
       "\n",
       "    .dataframe thead th {\n",
       "        text-align: right;\n",
       "    }\n",
       "</style>\n",
       "<table border=\"1\" class=\"dataframe\">\n",
       "  <thead>\n",
       "    <tr style=\"text-align: right;\">\n",
       "      <th></th>\n",
       "      <th>bedroomcnt</th>\n",
       "      <th>bathroomcnt</th>\n",
       "      <th>calculatedfinishedsquarefeet</th>\n",
       "      <th>taxvaluedollarcnt</th>\n",
       "      <th>yearbuilt</th>\n",
       "      <th>taxamount</th>\n",
       "      <th>fips</th>\n",
       "    </tr>\n",
       "  </thead>\n",
       "  <tbody>\n",
       "    <tr>\n",
       "      <th>0</th>\n",
       "      <td>0.0</td>\n",
       "      <td>0.0</td>\n",
       "      <td>NaN</td>\n",
       "      <td>27516.0</td>\n",
       "      <td>NaN</td>\n",
       "      <td>NaN</td>\n",
       "      <td>6037.0</td>\n",
       "    </tr>\n",
       "    <tr>\n",
       "      <th>1</th>\n",
       "      <td>0.0</td>\n",
       "      <td>0.0</td>\n",
       "      <td>NaN</td>\n",
       "      <td>10.0</td>\n",
       "      <td>NaN</td>\n",
       "      <td>NaN</td>\n",
       "      <td>6037.0</td>\n",
       "    </tr>\n",
       "    <tr>\n",
       "      <th>2</th>\n",
       "      <td>0.0</td>\n",
       "      <td>0.0</td>\n",
       "      <td>NaN</td>\n",
       "      <td>10.0</td>\n",
       "      <td>NaN</td>\n",
       "      <td>NaN</td>\n",
       "      <td>6037.0</td>\n",
       "    </tr>\n",
       "    <tr>\n",
       "      <th>3</th>\n",
       "      <td>0.0</td>\n",
       "      <td>0.0</td>\n",
       "      <td>NaN</td>\n",
       "      <td>2108.0</td>\n",
       "      <td>NaN</td>\n",
       "      <td>174.21</td>\n",
       "      <td>6037.0</td>\n",
       "    </tr>\n",
       "    <tr>\n",
       "      <th>4</th>\n",
       "      <td>4.0</td>\n",
       "      <td>2.0</td>\n",
       "      <td>3633.0</td>\n",
       "      <td>296425.0</td>\n",
       "      <td>2005.0</td>\n",
       "      <td>6941.39</td>\n",
       "      <td>6037.0</td>\n",
       "    </tr>\n",
       "  </tbody>\n",
       "</table>\n",
       "</div>"
      ],
      "text/plain": [
       "   bedroomcnt  bathroomcnt  calculatedfinishedsquarefeet  taxvaluedollarcnt  \\\n",
       "0         0.0          0.0                           NaN            27516.0   \n",
       "1         0.0          0.0                           NaN               10.0   \n",
       "2         0.0          0.0                           NaN               10.0   \n",
       "3         0.0          0.0                           NaN             2108.0   \n",
       "4         4.0          2.0                        3633.0           296425.0   \n",
       "\n",
       "   yearbuilt  taxamount    fips  \n",
       "0        NaN        NaN  6037.0  \n",
       "1        NaN        NaN  6037.0  \n",
       "2        NaN        NaN  6037.0  \n",
       "3        NaN     174.21  6037.0  \n",
       "4     2005.0    6941.39  6037.0  "
      ]
     },
     "execution_count": 4,
     "metadata": {},
     "output_type": "execute_result"
    }
   ],
   "source": [
    "zillow.head()"
   ]
  },
  {
   "cell_type": "code",
   "execution_count": 6,
   "id": "b8132a81",
   "metadata": {},
   "outputs": [
    {
     "data": {
      "text/plain": [
       "(2152863, 7)"
      ]
     },
     "execution_count": 6,
     "metadata": {},
     "output_type": "execute_result"
    }
   ],
   "source": [
    "zillow.shape"
   ]
  },
  {
   "cell_type": "code",
   "execution_count": 7,
   "id": "f4163d50",
   "metadata": {},
   "outputs": [
    {
     "name": "stdout",
     "output_type": "stream",
     "text": [
      "<class 'pandas.core.frame.DataFrame'>\n",
      "Int64Index: 2152863 entries, 0 to 2152862\n",
      "Data columns (total 7 columns):\n",
      " #   Column                        Dtype  \n",
      "---  ------                        -----  \n",
      " 0   bedroomcnt                    float64\n",
      " 1   bathroomcnt                   float64\n",
      " 2   calculatedfinishedsquarefeet  float64\n",
      " 3   taxvaluedollarcnt             float64\n",
      " 4   yearbuilt                     float64\n",
      " 5   taxamount                     float64\n",
      " 6   fips                          float64\n",
      "dtypes: float64(7)\n",
      "memory usage: 131.4 MB\n"
     ]
    }
   ],
   "source": [
    "zillow.info()"
   ]
  },
  {
   "cell_type": "code",
   "execution_count": 24,
   "id": "5520856c",
   "metadata": {},
   "outputs": [
    {
     "data": {
      "text/plain": [
       "bedroomcnt                        11\n",
       "bathroomcnt                       11\n",
       "calculatedfinishedsquarefeet    8484\n",
       "taxvaluedollarcnt                493\n",
       "yearbuilt                       9337\n",
       "taxamount                       4442\n",
       "fips                               0\n",
       "dtype: int64"
      ]
     },
     "execution_count": 24,
     "metadata": {},
     "output_type": "execute_result"
    }
   ],
   "source": [
    "# checking for null values\n",
    "\n",
    "zillow.isnull().sum()"
   ]
  },
  {
   "cell_type": "code",
   "execution_count": 23,
   "id": "58908692",
   "metadata": {},
   "outputs": [
    {
     "name": "stdout",
     "output_type": "stream",
     "text": [
      "25.0         1\n",
      "16.0         2\n",
      "18.0         3\n",
      "15.0         6\n",
      "14.0         7\n",
      "NaN         11\n",
      "12.0        12\n",
      "13.0        16\n",
      "11.0        34\n",
      "10.0       121\n",
      "9.0        291\n",
      "8.0       1107\n",
      "7.0       4807\n",
      "0.0      13187\n",
      "1.0      23166\n",
      "6.0      25166\n",
      "5.0     150866\n",
      "2.0     335473\n",
      "4.0     634289\n",
      "3.0     964298\n",
      "Name: bedroomcnt, dtype: int64\n",
      "19.50         1\n",
      "32.00         1\n",
      "14.50         1\n",
      "19.00         1\n",
      "11.50         3\n",
      "1.75          3\n",
      "12.50         3\n",
      "17.00         4\n",
      "20.00         6\n",
      "18.00         8\n",
      "NaN          11\n",
      "16.00        12\n",
      "10.50        14\n",
      "0.50         16\n",
      "15.00        17\n",
      "14.00        25\n",
      "13.00        39\n",
      "9.50         50\n",
      "12.00        73\n",
      "8.50        110\n",
      "11.00       146\n",
      "10.00       325\n",
      "7.50        384\n",
      "9.00        713\n",
      "6.50       1333\n",
      "8.00       1692\n",
      "7.00       4394\n",
      "5.50       6217\n",
      "6.00      10747\n",
      "0.00      13027\n",
      "4.50      19506\n",
      "5.00      28362\n",
      "3.50      28518\n",
      "1.50      31211\n",
      "4.00      82155\n",
      "2.50     142981\n",
      "1.00     414324\n",
      "3.00     422841\n",
      "2.00     943589\n",
      "Name: bathroomcnt, dtype: int64\n",
      "11830.0       1\n",
      "9070.0        1\n",
      "266.0         1\n",
      "10324.0       1\n",
      "9347.0        1\n",
      "           ... \n",
      "1400.0     3833\n",
      "1120.0     4362\n",
      "1080.0     4389\n",
      "1200.0     5195\n",
      "NaN        8484\n",
      "Name: calculatedfinishedsquarefeet, Length: 10581, dtype: int64\n",
      "1436013.0      1\n",
      "2363587.0      1\n",
      "291157.0       1\n",
      "270724.0       1\n",
      "439410.0       1\n",
      "            ... \n",
      "440000.0     685\n",
      "430000.0     690\n",
      "400000.0     729\n",
      "500000.0     779\n",
      "450000.0     821\n",
      "Name: taxvaluedollarcnt, Length: 592270, dtype: int64\n",
      "1855.0        1\n",
      "1840.0        1\n",
      "1823.0        1\n",
      "1833.0        1\n",
      "1862.0        1\n",
      "          ...  \n",
      "1956.0    61942\n",
      "1953.0    62342\n",
      "1954.0    69163\n",
      "1950.0    71693\n",
      "1955.0    84405\n",
      "Name: yearbuilt, Length: 154, dtype: int64\n",
      "19517.64       1\n",
      "13302.62       1\n",
      "7608.71        1\n",
      "7502.62        1\n",
      "80740.10       1\n",
      "            ... \n",
      "285.30        67\n",
      "343.52        75\n",
      "344.18        77\n",
      "345.72       172\n",
      "NaN         4442\n",
      "Name: taxamount, Length: 918839, dtype: int64\n",
      "6111.0     165975\n",
      "6059.0     555077\n",
      "6037.0    1431811\n",
      "Name: fips, dtype: int64\n"
     ]
    }
   ],
   "source": [
    "# for loop that is checking every column for any white space\n",
    "\n",
    "cols = ['bedroomcnt', 'bathroomcnt', 'calculatedfinishedsquarefeet', 'taxvaluedollarcnt', 'yearbuilt', 'taxamount', 'fips']\n",
    "for col in cols:\n",
    "    print(zillow[col].value_counts(dropna=False,ascending=True))"
   ]
  },
  {
   "cell_type": "code",
   "execution_count": 25,
   "id": "c4810048",
   "metadata": {},
   "outputs": [],
   "source": [
    "zillow_temp = zillow.dropna()"
   ]
  },
  {
   "cell_type": "code",
   "execution_count": 27,
   "id": "c996e600",
   "metadata": {},
   "outputs": [
    {
     "data": {
      "text/plain": [
       "bedroomcnt                      0\n",
       "bathroomcnt                     0\n",
       "calculatedfinishedsquarefeet    0\n",
       "taxvaluedollarcnt               0\n",
       "yearbuilt                       0\n",
       "taxamount                       0\n",
       "fips                            0\n",
       "dtype: int64"
      ]
     },
     "execution_count": 27,
     "metadata": {},
     "output_type": "execute_result"
    }
   ],
   "source": [
    "zillow_temp.isna().sum()"
   ]
  },
  {
   "cell_type": "code",
   "execution_count": null,
   "id": "c0c6a11f",
   "metadata": {},
   "outputs": [],
   "source": []
  }
 ],
 "metadata": {
  "kernelspec": {
   "display_name": "Python 3",
   "language": "python",
   "name": "python3"
  },
  "language_info": {
   "codemirror_mode": {
    "name": "ipython",
    "version": 3
   },
   "file_extension": ".py",
   "mimetype": "text/x-python",
   "name": "python",
   "nbconvert_exporter": "python",
   "pygments_lexer": "ipython3",
   "version": "3.8.8"
  }
 },
 "nbformat": 4,
 "nbformat_minor": 5
}
